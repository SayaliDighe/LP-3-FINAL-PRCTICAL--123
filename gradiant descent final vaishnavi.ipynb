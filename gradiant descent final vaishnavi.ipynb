{
 "cells": [
  {
   "cell_type": "code",
   "execution_count": 2,
   "id": "86a5fb6a-2f24-45bd-acfe-c770471923a0",
   "metadata": {},
   "outputs": [],
   "source": [
    "# Define the function y=(x+3)^2\n",
    "def function(x):\n",
    " return (x + 3)**2"
   ]
  },
  {
   "cell_type": "code",
   "execution_count": 4,
   "id": "45c9bb7d-2fbd-4919-af9a-40630fd1bc6f",
   "metadata": {},
   "outputs": [],
   "source": [
    "# Calculate the derivative of the function\n",
    "def derivative(x):\n",
    " return 2 * (x + 3)"
   ]
  },
  {
   "cell_type": "code",
   "execution_count": 6,
   "id": "5f0a27f5-f601-4c25-82da-bb51dd35e7f7",
   "metadata": {},
   "outputs": [],
   "source": [
    "# Initialize starting point and learning rate\n",
    "x = 2\n",
    "alpha = 0.1"
   ]
  },
  {
   "cell_type": "code",
   "execution_count": 8,
   "id": "4c063245-e5db-4d25-afd4-b5b315e67497",
   "metadata": {},
   "outputs": [],
   "source": [
    "# Set convergence criteria\n",
    "iterations = 1000\n",
    "tolerance = 1e-6"
   ]
  },
  {
   "cell_type": "code",
   "execution_count": 10,
   "id": "b3ad12eb-56de-4534-8ba0-3743e56b9977",
   "metadata": {},
   "outputs": [],
   "source": [
    "# Gradient Descent Algorithm\n",
    "for i in range(iterations):\n",
    " gradient = derivative(x)\n",
    " new_x = x - alpha * gradient\n",
    " \n",
    " if abs(new_x - x) < tolerance:\n",
    "    break\n",
    " \n",
    " x = new_x"
   ]
  },
  {
   "cell_type": "code",
   "execution_count": 12,
   "id": "d7e52898-1e71-4ab7-ae6f-cef0340ad5e4",
   "metadata": {},
   "outputs": [
    {
     "name": "stdout",
     "output_type": "stream",
     "text": [
      "Local minima at x = -2.999995096014269\n",
      "Minimum value of the function y = 2.4049076048192486e-11\n"
     ]
    }
   ],
   "source": [
    "# Print the local minima\n",
    "print(\"Local minima at x =\", x)\n",
    "print(\"Minimum value of the function y =\", function(x))"
   ]
  },
  {
   "cell_type": "code",
   "execution_count": null,
   "id": "eb64c01f-b283-46fa-bf6e-7217f50d4900",
   "metadata": {},
   "outputs": [],
   "source": []
  }
 ],
 "metadata": {
  "kernelspec": {
   "display_name": "Python 3 (ipykernel)",
   "language": "python",
   "name": "python3"
  },
  "language_info": {
   "codemirror_mode": {
    "name": "ipython",
    "version": 3
   },
   "file_extension": ".py",
   "mimetype": "text/x-python",
   "name": "python",
   "nbconvert_exporter": "python",
   "pygments_lexer": "ipython3",
   "version": "3.12.4"
  }
 },
 "nbformat": 4,
 "nbformat_minor": 5
}
